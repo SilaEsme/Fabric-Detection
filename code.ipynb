{
  "nbformat": 4,
  "nbformat_minor": 0,
  "metadata": {
    "colab": {
      "provenance": [],
      "gpuType": "T4"
    },
    "kernelspec": {
      "name": "python3",
      "display_name": "Python 3"
    },
    "language_info": {
      "name": "python"
    },
    "accelerator": "GPU"
  },
  "cells": [
    {
      "cell_type": "markdown",
      "source": [
        "We can implement **OneClassSVM** model or **One-Class CNN** model for detecting defects on fabric.\n",
        "Also we can use **Gabor filters** to detect. However, input images come in different orientations and scales which makes the use of gabor filters ineffective."
      ],
      "metadata": {
        "id": "5S-iNn7n8WaV"
      }
    },
    {
      "cell_type": "markdown",
      "source": [
        "OC-SVM takes more time and uses more source than OC-CNN. First we try OneClassSVM but we failed. We know that Gabor filters are ineffective so we chose the OC-CNN side."
      ],
      "metadata": {
        "id": "7zOfyjBKGlVR"
      }
    },
    {
      "cell_type": "code",
      "source": [
        "import cv2\n",
        "import numpy as np\n",
        "from matplotlib import pyplot as plt\n",
        "from sklearn.datasets import load_files\n",
        "from sklearn.utils import shuffle\n",
        "from sklearn.model_selection import train_test_split\n",
        "from skimage.color import rgb2gray\n",
        "from sklearn.metrics import classification_report\n",
        "from tensorflow.keras import datasets, layers, models, optimizers, regularizers\n",
        "from tensorflow.keras.preprocessing import image\n",
        "from tensorflow.keras.callbacks import EarlyStopping, ModelCheckpoint\n",
        "from tensorflow.keras.preprocessing.image import ImageDataGenerator\n",
        "from tqdm import tqdm\n",
        "\n",
        "SHAPE = (128, 128)\n"
      ],
      "metadata": {
        "id": "r9YbPD38WKzf"
      },
      "execution_count": null,
      "outputs": []
    },
    {
      "cell_type": "markdown",
      "source": [
        "\n",
        "\n",
        "**1.   Data Preprocessing**\n",
        "\n"
      ],
      "metadata": {
        "id": "-wo4Eac0ioVw"
      }
    },
    {
      "cell_type": "code",
      "source": [
        "def loadImage(path):\n",
        "  img = image.load_img(path, target_size=SHAPE, color_mode='grayscale')\n",
        "  return image.img_to_array(img)\n",
        "\n",
        "def loadData(path):\n",
        "  data = load_files(path)\n",
        "  f = np.array(data['filenames'])\n",
        "  t = np.array(data['target'])\n",
        "  f_arr = tqdm(f, desc='Data loading', leave=True)\n",
        "  img_data = [loadImage(p)/255 for p in f_arr]\n",
        "  return np.array(img_data), np.array(t)\n",
        "\n",
        "# --- Loading all the good fabric data and split to train and test. --- #\n",
        "x_good, y_good = loadData(\"/content/drive/MyDrive/FabricDataset/all_good\")\n",
        "x_train, x_test, y_train, y_test = train_test_split(x_good, y_good, shuffle=True, test_size= .25)\n",
        "print(f'Shape of x_train = {x_train.shape}')\n",
        "print(f'Shape of x_test = {x_test.shape}')\n",
        "print(f'Shape of y_train = {y_train.shape}')\n",
        "print(f'Shape of y_test = {y_test.shape}')\n",
        "\n",
        "print(\"\\n\")\n",
        "\n",
        "# --- Loading all the bad fabric data and concat to test. --- #\n",
        "x_bad, y_bad = loadData(\"/content/drive/MyDrive/FabricDataset/all_bad\")\n",
        "x_test = np.concatenate((x_test, x_bad), axis=0)\n",
        "y_test = np.concatenate((y_test, y_bad), axis=0)\n",
        "\n",
        "x_test, y_test = shuffle(x_test, y_test)\n",
        "\n",
        "print(f'\\nShape of x_train = {x_train.shape}')\n",
        "print(f'Shape of x_test = {x_test.shape}')\n",
        "print(f'Shape of y_train = {y_train.shape}')\n",
        "print(f'Shape of y_test = {y_test.shape}')\n",
        "\n",
        "n_train = x_train.shape[0]\n",
        "n_test = x_test.shape[0]\n"
      ],
      "metadata": {
        "id": "0qVupWU1Rw_R",
        "colab": {
          "base_uri": "https://localhost:8080/"
        },
        "outputId": "8927b995-b720-46d6-ffaa-e6bc1b4ef50f"
      },
      "execution_count": null,
      "outputs": [
        {
          "output_type": "stream",
          "name": "stderr",
          "text": [
            "Data loading: 100%|██████████| 493/493 [00:08<00:00, 60.53it/s]\n"
          ]
        },
        {
          "output_type": "stream",
          "name": "stdout",
          "text": [
            "Shape of x_train = (369, 128, 128, 1)\n",
            "Shape of x_test = (124, 128, 128, 1)\n",
            "Shape of y_train = (369,)\n",
            "Shape of y_test = (124,)\n",
            "\n",
            "\n"
          ]
        },
        {
          "output_type": "stream",
          "name": "stderr",
          "text": [
            "Data loading: 100%|██████████| 56/56 [00:00<00:00, 270.28it/s]"
          ]
        },
        {
          "output_type": "stream",
          "name": "stdout",
          "text": [
            "\n",
            "Shape of x_train = (369, 128, 128, 1)\n",
            "Shape of x_test = (180, 128, 128, 1)\n",
            "Shape of y_train = (369,)\n",
            "Shape of y_test = (180,)\n"
          ]
        },
        {
          "output_type": "stream",
          "name": "stderr",
          "text": [
            "\n"
          ]
        }
      ]
    },
    {
      "cell_type": "markdown",
      "source": [
        "**2. Creating the Model**\\\n",
        "*Note:* We didn't design the model. We just optimize the dropout, learning rate values and optimizer."
      ],
      "metadata": {
        "id": "PG8iQZcBHPhR"
      }
    },
    {
      "cell_type": "code",
      "source": [
        "def create_model(image_shape = (64, 64, 1), print_summary=False, lr=0.0001):\n",
        "    # Initial model\n",
        "    model = models.Sequential()\n",
        "    # CONV layer: filter 32, stride 3x3\n",
        "    model.add(layers.Conv2D(32, (3, 3),input_shape=image_shape))\n",
        "    #model.add(layers.BatchNormalization())\n",
        "    model.add(layers.Activation(\"relu\"))\n",
        "    model.add(layers.MaxPooling2D((2, 2)))\n",
        "    model.add(layers.Dropout(0.2))\n",
        "\n",
        "    # CONV layer: filter 32, stride 3x3\n",
        "    model.add(layers.Conv2D(32, (3, 3)))\n",
        "    model.add(layers.Activation(\"relu\"))\n",
        "    model.add(layers.MaxPooling2D((2, 2)))\n",
        "    model.add(layers.Dropout(0.2))\n",
        "\n",
        "    # CONV layer: filter 64, stride 3x3\n",
        "    model.add(layers.Conv2D(64, (3, 3)))\n",
        "    #model.add(layers.BatchNormalization())\n",
        "    model.add(layers.Activation(\"relu\"))\n",
        "    model.add(layers.MaxPooling2D((2, 2)))\n",
        "    model.add(layers.Dropout(0.2))\n",
        "\n",
        "    model.add(layers.Flatten())\n",
        "\n",
        "    # Fully connected layer -> nn layer with 64 nodes\n",
        "    model.add(layers.Dense(64))\n",
        "    model.add(layers.BatchNormalization())\n",
        "    model.add(layers.Activation(\"relu\"))\n",
        "    model.add(layers.Dropout(.5))\n",
        "\n",
        "    # Output layer\n",
        "    model.add(layers.Dense(1, activation=\"sigmoid\"))\n",
        "\n",
        "    # Set model compiler\n",
        "    model.compile(optimizer=\"SGD\", loss=\"binary_crossentropy\", metrics=[\"accuracy\"])\n",
        "\n",
        "    # Show the CNN model detail\n",
        "    if print_summary:\n",
        "        model.summary()\n",
        "\n",
        "    return model\n",
        "\n",
        "model = create_model(image_shape=(SHAPE[0],SHAPE[1],1),print_summary= True, lr = 0.00001)\n"
      ],
      "metadata": {
        "colab": {
          "base_uri": "https://localhost:8080/"
        },
        "id": "A9R-MnUUjVQW",
        "outputId": "c45c2dac-7e2a-40d5-904b-24a18d34584c"
      },
      "execution_count": null,
      "outputs": [
        {
          "output_type": "stream",
          "name": "stdout",
          "text": [
            "Model: \"sequential\"\n",
            "_________________________________________________________________\n",
            " Layer (type)                Output Shape              Param #   \n",
            "=================================================================\n",
            " conv2d (Conv2D)             (None, 126, 126, 32)      320       \n",
            "                                                                 \n",
            " activation (Activation)     (None, 126, 126, 32)      0         \n",
            "                                                                 \n",
            " max_pooling2d (MaxPooling2D  (None, 63, 63, 32)       0         \n",
            " )                                                               \n",
            "                                                                 \n",
            " dropout (Dropout)           (None, 63, 63, 32)        0         \n",
            "                                                                 \n",
            " conv2d_1 (Conv2D)           (None, 61, 61, 32)        9248      \n",
            "                                                                 \n",
            " activation_1 (Activation)   (None, 61, 61, 32)        0         \n",
            "                                                                 \n",
            " max_pooling2d_1 (MaxPooling  (None, 30, 30, 32)       0         \n",
            " 2D)                                                             \n",
            "                                                                 \n",
            " dropout_1 (Dropout)         (None, 30, 30, 32)        0         \n",
            "                                                                 \n",
            " conv2d_2 (Conv2D)           (None, 28, 28, 64)        18496     \n",
            "                                                                 \n",
            " activation_2 (Activation)   (None, 28, 28, 64)        0         \n",
            "                                                                 \n",
            " max_pooling2d_2 (MaxPooling  (None, 14, 14, 64)       0         \n",
            " 2D)                                                             \n",
            "                                                                 \n",
            " dropout_2 (Dropout)         (None, 14, 14, 64)        0         \n",
            "                                                                 \n",
            " flatten (Flatten)           (None, 12544)             0         \n",
            "                                                                 \n",
            " dense (Dense)               (None, 64)                802880    \n",
            "                                                                 \n",
            " batch_normalization (BatchN  (None, 64)               256       \n",
            " ormalization)                                                   \n",
            "                                                                 \n",
            " activation_3 (Activation)   (None, 64)                0         \n",
            "                                                                 \n",
            " dropout_3 (Dropout)         (None, 64)                0         \n",
            "                                                                 \n",
            " dense_1 (Dense)             (None, 1)                 65        \n",
            "                                                                 \n",
            "=================================================================\n",
            "Total params: 831,265\n",
            "Trainable params: 831,137\n",
            "Non-trainable params: 128\n",
            "_________________________________________________________________\n"
          ]
        }
      ]
    },
    {
      "cell_type": "code",
      "source": [
        "def train_model(model, x_train, y_train, x_val, y_val, n_epoch, batch_size):\n",
        "    history = model.fit(x_train, y_train, epochs=n_epoch, batch_size=batch_size,\n",
        "                        shuffle= True, validation_data=(x_val, y_val))\n",
        "    return history"
      ],
      "metadata": {
        "id": "f-of7NbHlqb5"
      },
      "execution_count": null,
      "outputs": []
    },
    {
      "cell_type": "code",
      "source": [
        "# Train CNN model\n",
        "n_epoch = 5\n",
        "batch_size = 30\n",
        "\n",
        "history = train_model(model, x_train, y_train, x_test, y_test, n_epoch, batch_size)"
      ],
      "metadata": {
        "colab": {
          "base_uri": "https://localhost:8080/"
        },
        "id": "3TzQMG4amQFl",
        "outputId": "634ea8e6-b32b-41f4-cf1b-6f72ee9c8f7b"
      },
      "execution_count": null,
      "outputs": [
        {
          "output_type": "stream",
          "name": "stdout",
          "text": [
            "Epoch 1/5\n",
            "13/13 [==============================] - 14s 696ms/step - loss: 1.0022 - accuracy: 0.4092 - val_loss: 0.6512 - val_accuracy: 0.6889\n",
            "Epoch 2/5\n",
            "13/13 [==============================] - 11s 790ms/step - loss: 0.6101 - accuracy: 0.6694 - val_loss: 0.6247 - val_accuracy: 0.6889\n",
            "Epoch 3/5\n",
            "13/13 [==============================] - 11s 857ms/step - loss: 0.4113 - accuracy: 0.8130 - val_loss: 0.6205 - val_accuracy: 0.6889\n",
            "Epoch 4/5\n",
            "13/13 [==============================] - 10s 794ms/step - loss: 0.2975 - accuracy: 0.9051 - val_loss: 0.6196 - val_accuracy: 0.6889\n",
            "Epoch 5/5\n",
            "13/13 [==============================] - 9s 631ms/step - loss: 0.2522 - accuracy: 0.9295 - val_loss: 0.6193 - val_accuracy: 0.6889\n"
          ]
        }
      ]
    },
    {
      "cell_type": "code",
      "source": [
        "plt.plot(history.history['accuracy'])\n",
        "plt.plot(history.history['val_accuracy'])\n",
        "plt.title('model accuracy')\n",
        "plt.ylabel('accuracy')\n",
        "plt.xlabel('epoch')\n",
        "plt.legend(['train', 'test'], loc='upper left')\n",
        "plt.show()\n",
        "\n",
        "plt.plot(history.history['loss'])\n",
        "plt.plot(history.history['val_loss'])\n",
        "plt.title('model loss')\n",
        "plt.ylabel('loss')\n",
        "plt.xlabel('epoch')\n",
        "plt.legend(['train', 'test'], loc='upper left')\n",
        "plt.show()"
      ],
      "metadata": {
        "id": "G53uuRqssDqf",
        "colab": {
          "base_uri": "https://localhost:8080/",
          "height": 927
        },
        "outputId": "fbe1dac3-e260-4449-dccb-b12c20a416e8"
      },
      "execution_count": null,
      "outputs": [
        {
          "output_type": "display_data",
          "data": {
            "text/plain": [
              "<Figure size 640x480 with 1 Axes>"
            ],
            "image/png": "[encoded data removed]"
          },
          "metadata": {}
        },
        {
          "output_type": "display_data",
          "data": {
            "text/plain": [
              "<Figure size 640x480 with 1 Axes>"
            ],
            "image/png": "[encoded data removed]"
          },
          "metadata": {}
        }
      ]
    },
    {
      "cell_type": "code",
      "source": [],
      "metadata": {
        "id": "091eyilO2rC9"
      },
      "execution_count": null,
      "outputs": []
    }
  ]
}